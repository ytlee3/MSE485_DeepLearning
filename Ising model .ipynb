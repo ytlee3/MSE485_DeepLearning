{
 "cells": [
  {
   "cell_type": "code",
   "execution_count": 1,
   "id": "94017722",
   "metadata": {},
   "outputs": [
    {
     "name": "stderr",
     "output_type": "stream",
     "text": [
      "Cloning into 'MSE485_Final_Projects'...\n"
     ]
    }
   ],
   "source": [
    "%%bash\n",
    "git clone https://github.com/ytlee3/MSE485_Final_Projects"
   ]
  },
  {
   "cell_type": "code",
   "execution_count": 585,
   "id": "c4e72260",
   "metadata": {},
   "outputs": [],
   "source": [
    "import numpy as np\n",
    "from numpy.random import rand\n",
    "import matplotlib.pyplot as plt\n",
    "from scipy.sparse import spdiags,linalg,eye\n",
    "import time\n",
    "\n",
    "def figure_adjust(x):\n",
    "  for ax in plt.gcf().get_axes():\n",
    "    ax.tick_params(labelsize=x,direction='in',length=8,width=3,pad=8)\n",
    "    ax.spines[\"top\"].set_linewidth(standard)\n",
    "    ax.spines[\"bottom\"].set_linewidth(standard)\n",
    "    ax.spines[\"right\"].set_linewidth(standard)\n",
    "    ax.spines[\"left\"].set_linewidth(standard)\n",
    "    labels = ax.get_xticklabels() + ax.get_yticklabels()\n",
    "    [label.set_fontname('Arial') for label in labels]\n",
    "    [label.set_weight('bold') for label in labels]\n",
    "standard = 2.5\n",
    "font1 = {'family': 'Arial','weight': 'bold','size': 24}\n",
    "font2 = {'family': 'Arial','weight': 'bold','size': 18}\n",
    "font3 = {'family': 'Arial','weight': 'bold','size': 16}\n",
    "\n",
    "np.set_printoptions(threshold =np.inf)"
   ]
  },
  {
   "cell_type": "code",
   "execution_count": 237,
   "id": "e758b591",
   "metadata": {
    "hide_input": false
   },
   "outputs": [],
   "source": [
    "def cold_lat(N): \n",
    "    return np.ones((N,N))"
   ]
  },
  {
   "cell_type": "code",
   "execution_count": 169,
   "id": "860ae1c0",
   "metadata": {
    "hide_input": true
   },
   "outputs": [],
   "source": [
    "def cal_M(lat):\n",
    "    return np.abs(np.sum(s))"
   ]
  },
  {
   "cell_type": "code",
   "execution_count": 170,
   "id": "c88565e4",
   "metadata": {
    "hide_input": true
   },
   "outputs": [],
   "source": [
    "def my_neighbor_list(i, j, N):\n",
    "  a = i-1\n",
    "  b = j-1\n",
    "  c = i+1 \n",
    "  d = j+1 \n",
    "  if a < 0: \n",
    "      a = N-1\n",
    "  if b < 0: \n",
    "      b = N-1\n",
    "  if c > N-1: \n",
    "      c = 0 \n",
    "  if d > N-1: \n",
    "      d = 0\n",
    "  left   = (a, j)\n",
    "  above  = (i, b)\n",
    "  right  = (c, j)\n",
    "  below  = (i, d)\n",
    "  return [left, above, right, below]"
   ]
  },
  {
   "cell_type": "code",
   "execution_count": 180,
   "id": "d6684bc5",
   "metadata": {
    "hide_input": false
   },
   "outputs": [],
   "source": [
    "def cold_lat(N): \n",
    "    return np.ones((N,N))\n",
    "\n",
    "def cal_energy(lat):\n",
    "    energy = 0 \n",
    "    for i in range(N): \n",
    "        for j in range(N): \n",
    "            single_spin = lat[i,j]\n",
    "            nb_list = my_neighbor_list(i,j,N)\n",
    "            for k in nb_list:\n",
    "                energy += (- single_spin * lat[k])\n",
    "    return energy/2\n",
    "\n",
    "def mc_sweep(lat, beta, RNG):\n",
    "    picks = np.random.randint(0,10000,N**2)\n",
    "    check = [RNG[pick] for pick in picks]\n",
    "    for i in range(N**2): \n",
    "        k, l = np.random.randint(0,N, 2)\n",
    "        single_spin = lat[k,l]\n",
    "        nb_list = my_neighbor_list(k, l, N)\n",
    "        dE = 0\n",
    "        for nb in nb_list: \n",
    "            dE += (2* single_spin * lat[nb])\n",
    "        if np.exp(-beta*dE) > check[i]: \n",
    "            lat[k,l] *= -1\n",
    "    return lat"
   ]
  },
  {
   "cell_type": "code",
   "execution_count": 567,
   "id": "5873ff89",
   "metadata": {
    "hide_input": false
   },
   "outputs": [],
   "source": [
    "def mc_sweep(lat, beta, RNG):\n",
    "    picks = np.random.randint(0,10000,N**2)\n",
    "    check = [RNG[pick] for pick in picks]\n",
    "    for i in range(N**2): \n",
    "        k, l = np.random.randint(0,N, 2)\n",
    "        single_spin = lat[k,l]\n",
    "        nb_list = my_neighbor_list(k, l, N)\n",
    "        dE = 0\n",
    "        for nb in nb_list: \n",
    "            dE += (2* single_spin * lat[nb])\n",
    "        if np.exp(-beta*dE) > check[i]: \n",
    "            lat[k,l] *= -1\n",
    "    return lat"
   ]
  },
  {
   "cell_type": "code",
   "execution_count": 568,
   "id": "17b81c64",
   "metadata": {},
   "outputs": [],
   "source": [
    "\n",
    "# RNG = np.loadtxt('./LCG/mi_LCG.txt')\n",
    "# RNG = np.loadtxt('./LCG/Turbo_LCG.txt')\n",
    "# RNG = np.loadtxt('./LCG/Unix_LCG.txt')\n",
    "# RNG = np.loadtxt('./LFG/LFG.txt')\n",
    "# RNG = np.loadtxt('./MRG/MRG.txt')\n",
    "# RNG = np.loadtxt('./MT/MT.txt')\n",
    "# RNG = np.loadtxt('./PCG/PCG.txt')\n",
    "RNG = np.loadtxt('./Qrn/Qrand.txt')"
   ]
  },
  {
   "cell_type": "code",
   "execution_count": 569,
   "id": "71ff8aea",
   "metadata": {},
   "outputs": [],
   "source": [
    "N = 20\n",
    "T = np.arange(1,4,0.1)\n",
    "equ_step = 512\n",
    "cal_step = 256\n",
    "Cv = np.zeros(len(T)) # specific heat\n",
    "E = np.zeros(len(T)) # average energy per spin"
   ]
  },
  {
   "cell_type": "code",
   "execution_count": 570,
   "id": "53be39ee",
   "metadata": {},
   "outputs": [],
   "source": [
    "for i in range(len(T)): \n",
    "    lat = cold_lat(N)\n",
    "    for j in range(equ_step):\n",
    "        eq_lat = mc_sweep(lat, 1/T[i], RNG)\n",
    "    E1, E2 = np.zeros(cal_step), np.zeros(cal_step)\n",
    "    for k in range(cal_step):\n",
    "        cal_lat = mc_sweep(eq_lat, 1/T[i], RNG)\n",
    "        E1[k] = cal_energy(cal_lat)\n",
    "        E2[k] = np.power(E1[k], 2)\n",
    "    E[i] = np.mean(E1)/(N**2)\n",
    "    Cv[i] = ((1/T[i])**2)*(np.mean(E2)-\n",
    "        np.power(np.mean(E1),2))/(N**2)"
   ]
  },
  {
   "cell_type": "code",
   "execution_count": 571,
   "id": "f121ceb1",
   "metadata": {},
   "outputs": [],
   "source": [
    "Cv = Cv.tolist()"
   ]
  },
  {
   "cell_type": "code",
   "execution_count": 583,
   "id": "8d96b2a8",
   "metadata": {},
   "outputs": [
    {
     "name": "stdout",
     "output_type": "stream",
     "text": [
      "error:  2.537917506328924e-05 Critical temperature:  2.2781900000011674\n"
     ]
    },
    {
     "data": {
      "text/plain": [
       "<Figure size 432x288 with 0 Axes>"
      ]
     },
     "metadata": {},
     "output_type": "display_data"
    },
    {
     "data": {
      "image/png": "[encoded data removed]",
      "text/plain": [
       "<Figure size 864x288 with 2 Axes>"
      ]
     },
     "metadata": {
      "needs_background": "light"
     },
     "output_type": "display_data"
    }
   ],
   "source": [
    "plt.figure(figsize=(6,4))\n",
    "fig, axes = plt.subplots(1, 2, figsize=(12,4))\n",
    "ax1, ax2= axes[0], axes[1]\n",
    "\n",
    "\n",
    "index = Cv.index(max(Cv))\n",
    "linear_model=np.polyfit(T[:index+1],Cv[:index+1],4)\n",
    "linear_model_fn=np.poly1d(linear_model)\n",
    "linear_model2 = np.polyfit(T[index:],Cv[index:],4)\n",
    "linear_model_fn2 = np.poly1d(linear_model2)\n",
    "x_s=np.arange(1,T[index],0.01)\n",
    "x_s2=np.arange(T[index],3.9,0.01)\n",
    "\n",
    "ax1.plot(x_s,linear_model_fn(x_s),color=\"green\", linewidth = 2)\n",
    "ax1.plot(x_s2,linear_model_fn2(x_s2),color=\"green\", linewidth = 2)\n",
    "ax1.scatter(T,Cv, color ='blue')\n",
    "ax2.scatter(T,E, color ='blue')\n",
    "ax1.set_ylabel('C', font2)\n",
    "ax2.set_ylabel('E', font2)\n",
    "ax1.set_title('Quantum RNG', font2)\n",
    "ax1.set_xlabel('Temperature', font2)\n",
    "ax2.set_xlabel('Temperature', font2)\n",
    "ax2.set_title('Quantum RNG', font2)\n",
    "figure_adjust(16)\n",
    "fig.tight_layout()\n",
    "error = 10 \n",
    "sol = 10 \n",
    "for x in np.arange(2.1,2.5,0.00001): \n",
    "    y = linear_model_fn(x)\n",
    "    y2 = linear_model_fn2(x)\n",
    "    sub_error = np.abs(y-y2)\n",
    "    if sub_error < error: \n",
    "        error = sub_error \n",
    "        sol = x \n",
    "print('error: ', error, 'Critical temperature: ', sol)"
   ]
  }
 ],
 "metadata": {
  "hide_input": false,
  "kernelspec": {
   "display_name": "Python 3",
   "language": "python",
   "name": "python3"
  },
  "language_info": {
   "codemirror_mode": {
    "name": "ipython",
    "version": 3
   },
   "file_extension": ".py",
   "mimetype": "text/x-python",
   "name": "python",
   "nbconvert_exporter": "python",
   "pygments_lexer": "ipython3",
   "version": "3.8.8"
  },
  "latex_envs": {
   "LaTeX_envs_menu_present": true,
   "autoclose": false,
   "autocomplete": true,
   "bibliofile": "biblio.bib",
   "cite_by": "apalike",
   "current_citInitial": 1,
   "eqLabelWithNumbers": true,
   "eqNumInitial": 1,
   "hotkeys": {
    "equation": "Ctrl-E",
    "itemize": "Ctrl-I"
   },
   "labels_anchors": false,
   "latex_user_defs": false,
   "report_style_numbering": false,
   "user_envs_cfg": false
  }
 },
 "nbformat": 4,
 "nbformat_minor": 5
}

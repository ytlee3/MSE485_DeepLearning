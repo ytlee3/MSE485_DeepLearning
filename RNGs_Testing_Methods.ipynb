{
 "cells": [
  {
   "cell_type": "code",
   "execution_count": 84,
   "id": "70b528a9",
   "metadata": {},
   "outputs": [],
   "source": [
    "import numpy as np \n",
    "import random \n",
    "import matplotlib.pyplot as plt"
   ]
  },
  {
   "cell_type": "code",
   "execution_count": 85,
   "id": "6085162c",
   "metadata": {},
   "outputs": [],
   "source": [
    "def my_CheckRandomNumbers2D(rand_array,NB):\n",
    "    n = rand_array.shape[0] / (NB**2)\n",
    "    inter = np.arange(0,1+(1/NB), (1/NB))\n",
    "    counts, xbin, ybin = np.histogram2d(rand_array[:,0], rand_array[:,1], bins = (inter, inter))\n",
    "    return np.sum(((counts-n)**2)/n)"
   ]
  },
  {
   "cell_type": "markdown",
   "id": "2886f937",
   "metadata": {},
   "source": [
    "# LCG"
   ]
  },
  {
   "cell_type": "code",
   "execution_count": 4,
   "id": "a069cf49",
   "metadata": {},
   "outputs": [],
   "source": [
    "def my_LCG(m,a,c,x0,N):\n",
    "    ans = [ ]\n",
    "    for i in range(N):    \n",
    "        x = (a*x0 + c) % m \n",
    "        ans.append(x)\n",
    "        x0 = x \n",
    "    return np.array(ans)/m"
   ]
  },
  {
   "cell_type": "code",
   "execution_count": 39,
   "id": "5a680acc",
   "metadata": {},
   "outputs": [],
   "source": [
    "mi= my_LCG(2**24,1140671485, 12820163, 0, 10000)"
   ]
  },
  {
   "cell_type": "code",
   "execution_count": 71,
   "id": "76bc4ada",
   "metadata": {},
   "outputs": [],
   "source": [
    "np.savetxt('mi_LCG', mi)"
   ]
  },
  {
   "cell_type": "code",
   "execution_count": 6,
   "id": "f706ea5c",
   "metadata": {},
   "outputs": [],
   "source": [
    "Unix = my_LCG(2**48, 25214903917, 11, 0, 10000)"
   ]
  },
  {
   "cell_type": "code",
   "execution_count": 72,
   "id": "ccfef37c",
   "metadata": {},
   "outputs": [],
   "source": [
    "np.savetxt('Unix_LCG', Unix)"
   ]
  },
  {
   "cell_type": "code",
   "execution_count": 7,
   "id": "b0e46afb",
   "metadata": {},
   "outputs": [],
   "source": [
    "Turbo = my_LCG(2**31, 134775813, 1, 0, 10000)"
   ]
  },
  {
   "cell_type": "code",
   "execution_count": 73,
   "id": "17ea3fcb",
   "metadata": {},
   "outputs": [],
   "source": [
    "np.savetxt('Turbo_LCG', Turbo)"
   ]
  },
  {
   "cell_type": "code",
   "execution_count": 12,
   "id": "0282a571",
   "metadata": {},
   "outputs": [
    {
     "name": "stdout",
     "output_type": "stream",
     "text": [
      "chi_test for mi:  86.16\n",
      "chi_test for Unix:  99.67999999999999\n",
      "chi_test for mi:  93.03999999999999\n"
     ]
    }
   ],
   "source": [
    "#chi test\n",
    "chi_mi = my_CheckRandomNumbersND(mi.reshape(-1,2),10,2)\n",
    "print('chi_test for mi: ',chi_mi)\n",
    "chi_Unix = my_CheckRandomNumbersND(Unix.reshape(-1,2),10,2)\n",
    "print('chi_test for Unix: ',chi_Unix)\n",
    "chi_Turbo = my_CheckRandomNumbersND(Turbo.reshape(-1,2),10,2)\n",
    "print('chi_test for mi: ',chi_Turbo)"
   ]
  },
  {
   "cell_type": "code",
   "execution_count": 81,
   "id": "d92815e9",
   "metadata": {},
   "outputs": [
    {
     "name": "stdout",
     "output_type": "stream",
     "text": [
      "99.67999999999999\n"
     ]
    }
   ],
   "source": [
    "print(my_CheckRandomNumbers2D(Unix.reshape(-1,2),10))"
   ]
  },
  {
   "cell_type": "code",
   "execution_count": 13,
   "id": "772bce4f",
   "metadata": {},
   "outputs": [
    {
     "name": "stdout",
     "output_type": "stream",
     "text": [
      "lag:  1 Success\n",
      "lag:  2 Fail\n",
      "lag:  3 Success\n",
      "lag:  4 Success\n",
      "lag:  5 Success\n",
      "lag:  6 Success\n",
      "lag:  7 Success\n",
      "lag:  8 Success\n",
      "lag:  9 Success\n",
      "lag:  10 Success\n",
      "lag:  1 Success\n",
      "lag:  2 Success\n",
      "lag:  3 Success\n",
      "lag:  4 Success\n",
      "lag:  5 Success\n",
      "lag:  6 Success\n",
      "lag:  7 Success\n",
      "lag:  8 Success\n",
      "lag:  9 Success\n",
      "lag:  10 Success\n",
      "lag:  1 Success\n",
      "lag:  2 Success\n",
      "lag:  3 Success\n",
      "lag:  4 Success\n",
      "lag:  5 Success\n",
      "lag:  6 Success\n",
      "lag:  7 Success\n",
      "lag:  8 Success\n",
      "lag:  9 Success\n",
      "lag:  10 Success\n"
     ]
    }
   ],
   "source": [
    "#Rk_test\n",
    "Rk_test(mi)\n",
    "Rk_test(Unix)\n",
    "Rk_test(Turbo)"
   ]
  },
  {
   "cell_type": "code",
   "execution_count": 14,
   "id": "4b60c825",
   "metadata": {},
   "outputs": [
    {
     "name": "stdout",
     "output_type": "stream",
     "text": [
      "Z =  -0.42530131088327827 , and 95 % confidence =  1.96\n",
      "Result of run test: Random\n",
      "Z =  -0.864208085640309 , and 95 % confidence =  1.96\n",
      "Result of run test: Random\n",
      "Z =  0.2703168446630293 , and 95 % confidence =  1.96\n",
      "Result of run test: Random\n"
     ]
    }
   ],
   "source": [
    "#run_test\n",
    "run_test(mi, np.mean(mi))\n",
    "run_test(Unix, np.mean(Unix))\n",
    "run_test(Turbo, np.mean(Turbo))"
   ]
  },
  {
   "cell_type": "markdown",
   "id": "a8c45c57",
   "metadata": {},
   "source": [
    "# MRG"
   ]
  },
  {
   "cell_type": "code",
   "execution_count": 15,
   "id": "616eaff5",
   "metadata": {},
   "outputs": [],
   "source": [
    "def my_MRG(m,a1,ak,N):\n",
    "    rand = np.zeros(N)\n",
    "    rand[0] = (a1*2+ak*4)%m\n",
    "    rand[1] = (a1 * rand[0] + ak * 3) % m\n",
    "    rand[2] = (a1 * rand[1] + ak * 5) % m\n",
    "    for i in np.arange(3,N):\n",
    "        rand[i] = (a1*rand[i-1]+ak*rand[i-3])%m\n",
    "    return np.divide(rand,m)"
   ]
  },
  {
   "cell_type": "code",
   "execution_count": 16,
   "id": "be2dbe26",
   "metadata": {},
   "outputs": [],
   "source": [
    "myrand = my_MRG(2**31 - 21069,2197254,-1967928,10000)"
   ]
  },
  {
   "cell_type": "code",
   "execution_count": 75,
   "id": "11e148fd",
   "metadata": {},
   "outputs": [],
   "source": [
    "np.savetxt('MRG.txt', myrand)"
   ]
  },
  {
   "cell_type": "code",
   "execution_count": 17,
   "id": "21550927",
   "metadata": {},
   "outputs": [
    {
     "name": "stdout",
     "output_type": "stream",
     "text": [
      "chi_test for myrand:  89.83999999999999\n",
      "lag:  1 Success\n",
      "lag:  2 Success\n",
      "lag:  3 Success\n",
      "lag:  4 Success\n",
      "lag:  5 Success\n",
      "lag:  6 Success\n",
      "lag:  7 Success\n",
      "lag:  8 Success\n",
      "lag:  9 Success\n",
      "lag:  10 Success\n",
      "Z =  1.0117993699235794 , and 95 % confidence =  1.96\n",
      "Result of run test: Random\n"
     ]
    }
   ],
   "source": [
    "chi_myrand = my_CheckRandomNumbersND(myrand.reshape(-1,2),10,2)\n",
    "print('chi_test for myrand: ',chi_myrand)\n",
    "Rk_test(myrand)\n",
    "run_test(myrand, np.mean(myrand))"
   ]
  },
  {
   "cell_type": "markdown",
   "id": "ee97889f",
   "metadata": {},
   "source": [
    "# LFG"
   ]
  },
  {
   "cell_type": "code",
   "execution_count": 18,
   "id": "aeaa232b",
   "metadata": {},
   "outputs": [],
   "source": [
    "def my_LFG(m,N,j,k):\n",
    "    rand = np.zeros(N)\n",
    "    for i in np.arange(k):\n",
    "        rand[i] = int(random.random()*m)\n",
    "    for i in np.arange(k,N):\n",
    "        rand[i] = (rand[i-j]+rand[i-k])%m\n",
    "    return np.divide(rand, m)"
   ]
  },
  {
   "cell_type": "code",
   "execution_count": 68,
   "id": "96214b67",
   "metadata": {},
   "outputs": [],
   "source": [
    "LFG= my_LFG(2**32,10000,7,10)"
   ]
  },
  {
   "cell_type": "code",
   "execution_count": 69,
   "id": "eb2b661a",
   "metadata": {},
   "outputs": [
    {
     "name": "stdout",
     "output_type": "stream",
     "text": [
      "chi_test for LFG:  104.32\n",
      "lag:  1 Success\n",
      "lag:  2 Success\n",
      "lag:  3 Success\n",
      "lag:  4 Success\n",
      "lag:  5 Fail\n",
      "lag:  6 Success\n",
      "lag:  7 Success\n",
      "lag:  8 Success\n",
      "lag:  9 Fail\n",
      "lag:  10 Success\n",
      "Z =  0.1504567549317896 , and 95 % confidence =  1.96\n",
      "Result of run test: Random\n"
     ]
    }
   ],
   "source": [
    "chi_LFG = my_CheckRandomNumbersND(LFG.reshape(-1,2),10,2)\n",
    "print('chi_test for LFG: ',chi_LFG)\n",
    "Rk_test(LFG)\n",
    "run_test(LFG, np.mean(LFG))"
   ]
  },
  {
   "cell_type": "code",
   "execution_count": 70,
   "id": "a26f1551",
   "metadata": {},
   "outputs": [],
   "source": [
    "np.savetxt('LFG', LFG)"
   ]
  },
  {
   "cell_type": "code",
   "execution_count": null,
   "id": "0c175ebf",
   "metadata": {},
   "outputs": [],
   "source": []
  },
  {
   "cell_type": "markdown",
   "id": "889b0272",
   "metadata": {},
   "source": [
    "# Mersessen Twisiter "
   ]
  },
  {
   "cell_type": "code",
   "execution_count": 21,
   "id": "ae57ff05",
   "metadata": {},
   "outputs": [],
   "source": [
    "def MT_rand(n, seed):\n",
    "    random.seed(seed)\n",
    "    rand = []\n",
    "    for i in range(n): \n",
    "        rand.append(random.random())\n",
    "    return np.array(rand)\n",
    "\n",
    "MT = MT_rand(10000, 420)"
   ]
  },
  {
   "cell_type": "code",
   "execution_count": 76,
   "id": "7e4b1113",
   "metadata": {},
   "outputs": [],
   "source": [
    "np.savetxt('MT.txt', MT)"
   ]
  },
  {
   "cell_type": "code",
   "execution_count": 22,
   "id": "2fe5542d",
   "metadata": {},
   "outputs": [
    {
     "name": "stdout",
     "output_type": "stream",
     "text": [
      "chi_test for MT:  102.92\n",
      "lag:  1 Success\n",
      "lag:  2 Success\n",
      "lag:  3 Success\n",
      "lag:  4 Success\n",
      "lag:  5 Success\n",
      "lag:  6 Success\n",
      "lag:  7 Success\n",
      "lag:  8 Success\n",
      "lag:  9 Success\n",
      "lag:  10 Success\n",
      "Z =  0.850166722049178 , and 95 % confidence =  1.96\n",
      "Result of run test: Random\n"
     ]
    }
   ],
   "source": [
    "chi_MT = my_CheckRandomNumbersND(MT.reshape(-1,2),10,2)\n",
    "print('chi_test for MT: ',chi_MT)\n",
    "Rk_test(MT)\n",
    "run_test(MT, np.mean(MT))"
   ]
  },
  {
   "cell_type": "markdown",
   "id": "6f79d94d",
   "metadata": {},
   "source": [
    "# PCG "
   ]
  },
  {
   "cell_type": "code",
   "execution_count": 23,
   "id": "663a9ba4",
   "metadata": {},
   "outputs": [],
   "source": [
    "mask64 = (1 << 64) - 1\n",
    "mask32 = (1 << 32) - 1\n",
    "def rotate_right(x, n):\n",
    "    return int(f\"{x:032b}\"[-n:] + f\"{x:032b}\"[:-n], 2)\n",
    "def my_PCG(m,a,c,x0,N):\n",
    "    rand = np.zeros(N)\n",
    "    rand[0] = int((a*x0+c)%m)\n",
    "    for i in np.arange(1,N):\n",
    "        state = int(a*rand[i-1]+c) & mask64\n",
    "        rand[i] =  rotate_right(state, (29 - (rotate_right(state,61)))) & mask32\n",
    "\n",
    "    return rand"
   ]
  },
  {
   "cell_type": "code",
   "execution_count": 24,
   "id": "4bc059d9",
   "metadata": {},
   "outputs": [],
   "source": [
    "PCG = my_PCG(2**32,319993,1,0,10000) / 2**32"
   ]
  },
  {
   "cell_type": "code",
   "execution_count": 77,
   "id": "80fe5026",
   "metadata": {},
   "outputs": [],
   "source": [
    "np.savetxt('PCG.txt', PCG)"
   ]
  },
  {
   "cell_type": "code",
   "execution_count": 25,
   "id": "71c06edd",
   "metadata": {},
   "outputs": [
    {
     "name": "stdout",
     "output_type": "stream",
     "text": [
      "chi_test for PCG:  85.39999999999999\n",
      "lag:  1 Success\n",
      "lag:  2 Success\n",
      "lag:  3 Success\n",
      "lag:  4 Success\n",
      "lag:  5 Success\n",
      "lag:  6 Success\n",
      "lag:  7 Success\n",
      "lag:  8 Success\n",
      "lag:  9 Success\n",
      "lag:  10 Success\n",
      "Z =  -0.4296834880105763 , and 95 % confidence =  1.96\n",
      "Result of run test: Random\n"
     ]
    }
   ],
   "source": [
    "chi_PCG = my_CheckRandomNumbersND(PCG.reshape(-1,2),10,2)\n",
    "print('chi_test for PCG: ',chi_PCG)\n",
    "Rk_test(PCG)\n",
    "run_test(PCG, np.mean(PCG))"
   ]
  },
  {
   "cell_type": "markdown",
   "id": "a67dae6b",
   "metadata": {},
   "source": [
    "# QRNG"
   ]
  },
  {
   "cell_type": "code",
   "execution_count": 86,
   "id": "8acbf424",
   "metadata": {},
   "outputs": [],
   "source": [
    "from numpy import pi\n",
    "from qiskit import QuantumCircuit, transpile, assemble, Aer, IBMQ\n",
    "from qiskit.providers.ibmq import least_busy\n",
    "from qiskit.tools.monitor import job_monitor\n",
    "from qiskit.visualization import plot_histogram, plot_bloch_multivector"
   ]
  },
  {
   "cell_type": "code",
   "execution_count": 87,
   "id": "d6c21414",
   "metadata": {},
   "outputs": [],
   "source": [
    "def QRNG(n,shot):\n",
    "    qc = QuantumCircuit(n,n)\n",
    "    for i in range(n): \n",
    "        qc.h(i)\n",
    "    for j in range(n):\n",
    "        qc.measure(j,j)\n",
    "    sim = Aer.get_backend('aer_simulator')\n",
    "    shot =shot\n",
    "    qobj = assemble(qc, shots= shot)\n",
    "    result = sim.run(qobj, memory= True).result()\n",
    "    rand = result.get_memory() \n",
    "    return rand  "
   ]
  },
  {
   "cell_type": "code",
   "execution_count": 88,
   "id": "2cb021bd",
   "metadata": {},
   "outputs": [],
   "source": [
    "def read_bit(bit_string): \n",
    "    num = 0 \n",
    "    for i in reversed(range(len(bit_string))): \n",
    "        power = len(bit_string)-1-i\n",
    "        num += (int(bit_string[i]) * (2**power))\n",
    "    return num \n",
    "\n",
    "def create_list(rand,n):\n",
    "    rand_list = []\n",
    "    for i in range(len(rand)): \n",
    "        rand_num = read_bit(rand[i])/(2**n)\n",
    "        if rand_num != 0 and rand_num != 1: \n",
    "            rand_list.append(rand_num)\n",
    "    return rand_list"
   ]
  },
  {
   "cell_type": "code",
   "execution_count": 89,
   "id": "3930a57d",
   "metadata": {},
   "outputs": [],
   "source": [
    "def create_list(rand,n):\n",
    "    rand_list = []\n",
    "    for i in range(len(rand)): \n",
    "        rand_num = read_bit(rand[i])/(2**n)\n",
    "        if rand_num != 0 and rand_num != 1: \n",
    "            rand_list.append(rand_num)\n",
    "    return rand_list"
   ]
  },
  {
   "cell_type": "code",
   "execution_count": 116,
   "id": "010a3d50",
   "metadata": {},
   "outputs": [
    {
     "name": "stdout",
     "output_type": "stream",
     "text": [
      "chi_test for Qrand:  81.3172607421875\n",
      "lag:  1 Success\n",
      "lag:  2 Success\n",
      "lag:  3 Success\n",
      "lag:  4 Success\n",
      "lag:  5 Success\n",
      "lag:  6 Success\n",
      "lag:  7 Success\n",
      "lag:  8 Success\n",
      "lag:  9 Success\n",
      "lag:  10 Success\n",
      "Z =  -0.42933265711320784 , and 95 % confidence =  1.96\n",
      "Result of run test: Random\n"
     ]
    }
   ],
   "source": [
    "Qrand = np.array(create_list(QRNG(64,2**18),64))\n",
    "chi_Qrand = my_CheckRandomNumbersND(Qrand.reshape(-1,2),10,2)\n",
    "print('chi_test for Qrand: ',chi_Qrand)\n",
    "Rk_test(Qrand)\n",
    "run_test(Qrand, np.mean(Qrand))"
   ]
  },
  {
   "cell_type": "code",
   "execution_count": 119,
   "id": "bc36983f",
   "metadata": {},
   "outputs": [
    {
     "name": "stdout",
     "output_type": "stream",
     "text": [
      "262144\n"
     ]
    }
   ],
   "source": [
    "print(len(Qrand))"
   ]
  },
  {
   "cell_type": "code",
   "execution_count": 118,
   "id": "df188d25",
   "metadata": {},
   "outputs": [],
   "source": [
    "np.savetxt('Qrand_2_18', Qrand)"
   ]
  },
  {
   "cell_type": "markdown",
   "id": "896a880f",
   "metadata": {},
   "source": [
    "# Serial-Correlation Test "
   ]
  },
  {
   "cell_type": "code",
   "execution_count": 8,
   "id": "d3356582",
   "metadata": {},
   "outputs": [],
   "source": [
    "def Rk(lag, rand): \n",
    "    N = len(rand)\n",
    "    Rk = 0\n",
    "    for i in range(N-lag):\n",
    "        Rk += (rand[i]-0.5)*(rand[i+lag]-0.5)\n",
    "    Rk = Rk/(N-lag)\n",
    "    return Rk, N-lag \n",
    "\n",
    "def Rk_single_interval(Rk, d_lag, lag):\n",
    "    z_90 = 1.645\n",
    "    inter = z_90 / (12*np.sqrt(d_lag))\n",
    "    upper = Rk + inter\n",
    "    lower = Rk - inter\n",
    "    if upper > 0 and lower > 0: \n",
    "        print('lag: ', lag, 'Fail')\n",
    "    elif upper <0  and lower < 0: \n",
    "        print('lag: ', lag, 'Fail')\n",
    "    else: \n",
    "        print('lag: ', lag, 'Success')\n",
    "        \n",
    "def Rk_test(rand):\n",
    "    for i in range(1,11): \n",
    "        R, Nlag = Rk(i,rand)\n",
    "        Rk_single_interval(R, Nlag, i)"
   ]
  },
  {
   "cell_type": "code",
   "execution_count": 9,
   "id": "a650156d",
   "metadata": {},
   "outputs": [],
   "source": [
    "def Rk_test(rand):\n",
    "    for i in range(1,11): \n",
    "        R, Nlag = Rk(i,rand)\n",
    "        Rk_single_interval(R, Nlag, i)"
   ]
  },
  {
   "cell_type": "markdown",
   "id": "6219f35f",
   "metadata": {},
   "source": [
    "# Run Test"
   ]
  },
  {
   "cell_type": "code",
   "execution_count": 10,
   "id": "759be17a",
   "metadata": {},
   "outputs": [],
   "source": [
    "# 1D dataset, length of the random number sequence is 10000\n",
    "def run_test(rand, m):\n",
    "    runs, np, nn = 0, 0, 0 \n",
    "    for i in range(len(rand)-1):\n",
    "        if rand[i] > m and rand[i+1] < m:\n",
    "            runs += 1 \n",
    "        elif rand[i] < m and rand[i+1] > m:\n",
    "            runs += 1 \n",
    "        if rand[i] >= m:\n",
    "            np += 1 \n",
    "        else: \n",
    "            nn += 1 \n",
    "    means_e = (2*np*nn/(np+nn)) + 1 \n",
    "    std_e = ((means_e-1)*(means_e-2) / (np+nn-1))**0.5\n",
    "    Z = (runs-means_e)/std_e\n",
    "    print('Z = ', Z, ', and 95 % confidence = ', 1.96)\n",
    "    if Z > 1.96 or Z < -1.96: \n",
    "        print('Result of run test: Not random')\n",
    "    else: \n",
    "        print('Result of run test: Random')"
   ]
  }
 ],
 "metadata": {
  "hide_input": false,
  "kernelspec": {
   "display_name": "Python 3",
   "language": "python",
   "name": "python3"
  },
  "language_info": {
   "codemirror_mode": {
    "name": "ipython",
    "version": 3
   },
   "file_extension": ".py",
   "mimetype": "text/x-python",
   "name": "python",
   "nbconvert_exporter": "python",
   "pygments_lexer": "ipython3",
   "version": "3.8.8"
  },
  "latex_envs": {
   "LaTeX_envs_menu_present": true,
   "autoclose": false,
   "autocomplete": true,
   "bibliofile": "biblio.bib",
   "cite_by": "apalike",
   "current_citInitial": 1,
   "eqLabelWithNumbers": true,
   "eqNumInitial": 1,
   "hotkeys": {
    "equation": "Ctrl-E",
    "itemize": "Ctrl-I"
   },
   "labels_anchors": false,
   "latex_user_defs": false,
   "report_style_numbering": false,
   "user_envs_cfg": false
  }
 },
 "nbformat": 4,
 "nbformat_minor": 5
}

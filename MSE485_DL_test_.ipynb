{
  "nbformat": 4,
  "nbformat_minor": 0,
  "metadata": {
    "colab": {
      "name": "MSE485 DL test .ipynb",
      "provenance": [],
      "collapsed_sections": [],
      "authorship_tag": "ABX9TyPgvx3Y71OvWcv0q1cSD479",
      "include_colab_link": true
    },
    "kernelspec": {
      "name": "python3",
      "display_name": "Python 3"
    },
    "language_info": {
      "name": "python"
    }
  },
  "cells": [
    {
      "cell_type": "markdown",
      "metadata": {
        "id": "view-in-github",
        "colab_type": "text"
      },
      "source": [
        "<a href=\"https://colab.research.google.com/github/ytlee3/MSE485_DeepLearning/blob/main/MSE485_DL_test_.ipynb\" target=\"_parent\"><img src=\"https://colab.research.google.com/assets/colab-badge.svg\" alt=\"Open In Colab\"/></a>"
      ]
    },
    {
      "cell_type": "code",
      "metadata": {
        "colab": {
          "base_uri": "https://localhost:8080/"
        },
        "id": "X8rRy-ahDLM9",
        "outputId": "12d83979-67bd-48ec-b02f-076ab1ee177f"
      },
      "source": [
        "!pip install keras\n",
        "import pandas as pd\n",
        "import numpy as np\n",
        "import h5py\n",
        "import pickle\n",
        "import tables\n",
        "import matplotlib.pyplot as plt\n",
        "import os \n",
        "import time\n",
        "# os.environ[\"KERAS_BACKEND\"] = \"plaidml.keras.backend\"\n",
        "import keras\n",
        "from tensorflow.keras.optimizers import Adam\n",
        "import pandas as pd\n",
        "import numpy as np\n",
        "from keras.models import Sequential\n",
        "from keras.layers import Dense, Dropout, Activation, Flatten, LSTM, TimeDistributed, RepeatVector\n",
        "# from tensorflow.keras.layers.normalization import BatchNormalization\n",
        "# from keras.optimizers import Adam\n",
        "# from keras.optimizers import adam\n",
        "from keras.callbacks import EarlyStopping, ModelCheckpoint\n",
        "import matplotlib.pyplot as plt\n",
        "from sklearn.preprocessing import MinMaxScaler\n",
        "from sklearn.metrics import mean_squared_error\n",
        "from scipy import integrate\n",
        "from sklearn.model_selection import train_test_split\n",
        "from keras import backend as K \n",
        "import tensorflow\n",
        "print(tensorflow.__version__)\n"
      ],
      "execution_count": null,
      "outputs": [
        {
          "output_type": "stream",
          "name": "stdout",
          "text": [
            "Requirement already satisfied: keras in /usr/local/lib/python3.7/dist-packages (2.7.0)\n",
            "2.7.0\n"
          ]
        }
      ]
    },
    {
      "cell_type": "code",
      "metadata": {
        "id": "mGGlafdElNHg"
      },
      "source": [
        "import numpy as np \n",
        "import time \n",
        "import time\n",
        "import matplotlib.pyplot as plt\n",
        "import pandas as pd\n",
        "from scipy.interpolate import make_interp_spline\n",
        "def figure_adjust(x):\n",
        "  for ax in plt.gcf().get_axes():\n",
        "    ax.tick_params(labelsize=x,direction='in',length=8,width=3,pad=8)\n",
        "    ax.spines[\"top\"].set_linewidth(standard)\n",
        "    ax.spines[\"bottom\"].set_linewidth(standard)\n",
        "    ax.spines[\"right\"].set_linewidth(standard)\n",
        "    ax.spines[\"left\"].set_linewidth(standard)\n",
        "    labels = ax.get_xticklabels() + ax.get_yticklabels()\n",
        "    [label.set_fontname('Arial') for label in labels]\n",
        "    [label.set_weight('bold') for label in labels]\n",
        "standard = 2.5\n",
        "font1 = {'family': 'Arial','weight': 'bold','size': 24}\n",
        "font2 = {'family': 'Arial','weight': 'bold','size': 18}\n",
        "font3 = {'family': 'Arial','weight': 'bold','size': 16}"
      ],
      "execution_count": null,
      "outputs": []
    },
    {
      "cell_type": "code",
      "metadata": {
        "id": "GQoPJmHIfn3r"
      },
      "source": [
        "def make_data(rand, train_num): \n",
        "  X_train, Y_train = [], []\n",
        "  for i in range(train_num, len(rand)):\n",
        "    X_train.append(rand[i- train_num:i])\n",
        "    Y_train.append(rand[i])\n",
        "  return np.array(X_train), np.array(Y_train)\n",
        "def split_data(all_x,all_y,split_ratio):\n",
        "    leng = all_x.shape[0]\n",
        "    num = all_x.shape[1]\n",
        "    last_num = leng-int(split_ratio * leng)\n",
        "    x_train = all_x[:all_x.shape[0]-last_num,:]\n",
        "    y_train = all_y[:all_x.shape[0]-last_num]\n",
        "    x_test  = all_x[all_x.shape[0]-last_num:,:]\n",
        "    y_test  = all_y[all_x.shape[0]-last_num:]\n",
        "    return x_train.reshape(-1, num, 1), y_train, x_test.reshape(-1,num,1), y_test "
      ],
      "execution_count": null,
      "outputs": []
    },
    {
      "cell_type": "code",
      "metadata": {
        "id": "xH3wSJvKv1YO"
      },
      "source": [
        "# upload the file first \n",
        "# use np.loadtxt to read ur random number sequence (1D dataset)"
      ],
      "execution_count": null,
      "outputs": []
    },
    {
      "cell_type": "code",
      "metadata": {
        "id": "lHO_SHYwSasX"
      },
      "source": [
        "mi_LCG = np.loadtxt('mi_LCG.txt')\n",
        "Turbo_LCG = np.loadtxt('Turbo_LCG.txt')\n",
        "Unix_LCG = np.loadtxt('Unix_LCG.txt')\n",
        "Qrand = np.loadtxt('Qrand.txt')\n",
        "LFG = np.loadtxt('LFG.txt')\n",
        "PCG = np.loadtxt('PCG.txt')\n",
        "MT = np.loadtxt('MT.txt')\n",
        "MRG = np.loadtxt('MRG.txt')"
      ],
      "execution_count": null,
      "outputs": []
    },
    {
      "cell_type": "code",
      "metadata": {
        "id": "_OFbfwL5fVl1",
        "colab": {
          "base_uri": "https://localhost:8080/"
        },
        "outputId": "1fd4e5f8-65f4-42c6-fe46-78257ac1216b"
      },
      "source": [
        "all_x, all_y = make_data(mi_LCG , 10) # put your RNG here\n",
        "x_train, y_train, x_test, y_test = split_data(all_x, all_y, 0.9)\n",
        "print(x_train.shape, y_train.shape)"
      ],
      "execution_count": null,
      "outputs": [
        {
          "output_type": "stream",
          "name": "stdout",
          "text": [
            "(8991, 10, 1) (8991,)\n"
          ]
        }
      ]
    },
    {
      "cell_type": "code",
      "metadata": {
        "id": "zRK4_ohxSvXy"
      },
      "source": [
        ""
      ],
      "execution_count": null,
      "outputs": []
    },
    {
      "cell_type": "code",
      "metadata": {
        "id": "xLKwEh7Oid82",
        "colab": {
          "base_uri": "https://localhost:8080/"
        },
        "outputId": "009f28f3-d9d5-4bbb-a9de-0f5cf880eb39"
      },
      "source": [
        "del regressor2 \n",
        "K.clear_session()\n",
        "learning_rate = 0.001\n",
        "regressor2 = Sequential() \n",
        "regressor2.add(Dense(16, input_shape = (10,)))\n",
        "regressor2.add(Dense(32, activation= 'relu'))\n",
        "regressor2.add(Dense(64, activation= 'relu'))\n",
        "regressor2.add(Dense(32, activation= 'relu'))\n",
        "regressor2.add(Dense(16, activation= 'relu'))\n",
        "regressor2.add(Dense(8, activation= 'relu'))\n",
        "regressor2.add(Dense(1))\n",
        "regressor2.compile(optimizer= Adam(learning_rate=learning_rate), \n",
        "                   loss='mse', metrics=['mae']  )\n",
        "history = regressor2.fit(x_train, y_train,epochs = 100, \n",
        "                         batch_size = 16)"
      ],
      "execution_count": null,
      "outputs": [
        {
          "output_type": "stream",
          "name": "stdout",
          "text": [
            "Epoch 1/100\n",
            "562/562 [==============================] - 1s 1ms/step - loss: 0.0981 - mae: 0.2653\n",
            "Epoch 2/100\n",
            "562/562 [==============================] - 1s 1ms/step - loss: 0.0862 - mae: 0.2541\n",
            "Epoch 3/100\n",
            "562/562 [==============================] - 1s 1ms/step - loss: 0.0858 - mae: 0.2536\n",
            "Epoch 4/100\n",
            "562/562 [==============================] - 1s 1ms/step - loss: 0.0853 - mae: 0.2530\n",
            "Epoch 5/100\n",
            "562/562 [==============================] - 1s 1ms/step - loss: 0.0852 - mae: 0.2533\n",
            "Epoch 6/100\n",
            "562/562 [==============================] - 1s 1ms/step - loss: 0.0851 - mae: 0.2530\n",
            "Epoch 7/100\n",
            "562/562 [==============================] - 1s 1ms/step - loss: 0.0850 - mae: 0.2526\n",
            "Epoch 8/100\n",
            "562/562 [==============================] - 1s 1ms/step - loss: 0.0850 - mae: 0.2527\n",
            "Epoch 9/100\n",
            "562/562 [==============================] - 1s 1ms/step - loss: 0.0848 - mae: 0.2525\n",
            "Epoch 10/100\n",
            "562/562 [==============================] - 1s 1ms/step - loss: 0.0848 - mae: 0.2526\n",
            "Epoch 11/100\n",
            "562/562 [==============================] - 1s 1ms/step - loss: 0.0846 - mae: 0.2522\n",
            "Epoch 12/100\n",
            "562/562 [==============================] - 1s 1ms/step - loss: 0.0847 - mae: 0.2523\n",
            "Epoch 13/100\n",
            "562/562 [==============================] - 1s 1ms/step - loss: 0.0846 - mae: 0.2522\n",
            "Epoch 14/100\n",
            "562/562 [==============================] - 1s 1ms/step - loss: 0.0845 - mae: 0.2521\n",
            "Epoch 15/100\n",
            "562/562 [==============================] - 1s 1ms/step - loss: 0.0843 - mae: 0.2514\n",
            "Epoch 16/100\n",
            "562/562 [==============================] - 1s 1ms/step - loss: 0.0840 - mae: 0.2514\n",
            "Epoch 17/100\n",
            "562/562 [==============================] - 1s 1ms/step - loss: 0.0839 - mae: 0.2508\n",
            "Epoch 18/100\n",
            "562/562 [==============================] - 1s 1ms/step - loss: 0.0839 - mae: 0.2509\n",
            "Epoch 19/100\n",
            "562/562 [==============================] - 1s 1ms/step - loss: 0.0836 - mae: 0.2503\n",
            "Epoch 20/100\n",
            "562/562 [==============================] - 1s 1ms/step - loss: 0.0834 - mae: 0.2497\n",
            "Epoch 21/100\n",
            "562/562 [==============================] - 1s 1ms/step - loss: 0.0832 - mae: 0.2497\n",
            "Epoch 22/100\n",
            "562/562 [==============================] - 1s 1ms/step - loss: 0.0829 - mae: 0.2491\n",
            "Epoch 23/100\n",
            "562/562 [==============================] - 1s 1ms/step - loss: 0.0824 - mae: 0.2481\n",
            "Epoch 24/100\n",
            "562/562 [==============================] - 1s 1ms/step - loss: 0.0822 - mae: 0.2474\n",
            "Epoch 25/100\n",
            "562/562 [==============================] - 1s 1ms/step - loss: 0.0820 - mae: 0.2473\n",
            "Epoch 26/100\n",
            "562/562 [==============================] - 1s 1ms/step - loss: 0.0813 - mae: 0.2454\n",
            "Epoch 27/100\n",
            "562/562 [==============================] - 1s 1ms/step - loss: 0.0811 - mae: 0.2458\n",
            "Epoch 28/100\n",
            "562/562 [==============================] - 1s 1ms/step - loss: 0.0806 - mae: 0.2443\n",
            "Epoch 29/100\n",
            "562/562 [==============================] - 1s 1ms/step - loss: 0.0802 - mae: 0.2432\n",
            "Epoch 30/100\n",
            "562/562 [==============================] - 1s 1ms/step - loss: 0.0800 - mae: 0.2429\n",
            "Epoch 31/100\n",
            "562/562 [==============================] - 1s 1ms/step - loss: 0.0793 - mae: 0.2418\n",
            "Epoch 32/100\n",
            "562/562 [==============================] - 1s 1ms/step - loss: 0.0788 - mae: 0.2407\n",
            "Epoch 33/100\n",
            "562/562 [==============================] - 1s 1ms/step - loss: 0.0783 - mae: 0.2399\n",
            "Epoch 34/100\n",
            "562/562 [==============================] - 1s 1ms/step - loss: 0.0778 - mae: 0.2384\n",
            "Epoch 35/100\n",
            "562/562 [==============================] - 1s 1ms/step - loss: 0.0775 - mae: 0.2382\n",
            "Epoch 36/100\n",
            "562/562 [==============================] - 1s 1ms/step - loss: 0.0771 - mae: 0.2376\n",
            "Epoch 37/100\n",
            "562/562 [==============================] - 1s 1ms/step - loss: 0.0765 - mae: 0.2365\n",
            "Epoch 38/100\n",
            "562/562 [==============================] - 1s 1ms/step - loss: 0.0762 - mae: 0.2352\n",
            "Epoch 39/100\n",
            "562/562 [==============================] - 1s 1ms/step - loss: 0.0757 - mae: 0.2344\n",
            "Epoch 40/100\n",
            "562/562 [==============================] - 1s 1ms/step - loss: 0.0752 - mae: 0.2339\n",
            "Epoch 41/100\n",
            "562/562 [==============================] - 1s 1ms/step - loss: 0.0748 - mae: 0.2325\n",
            "Epoch 42/100\n",
            "562/562 [==============================] - 1s 1ms/step - loss: 0.0740 - mae: 0.2310\n",
            "Epoch 43/100\n",
            "562/562 [==============================] - 1s 1ms/step - loss: 0.0738 - mae: 0.2309\n",
            "Epoch 44/100\n",
            "562/562 [==============================] - 1s 1ms/step - loss: 0.0731 - mae: 0.2291\n",
            "Epoch 45/100\n",
            "562/562 [==============================] - 1s 1ms/step - loss: 0.0725 - mae: 0.2283\n",
            "Epoch 46/100\n",
            "562/562 [==============================] - 1s 1ms/step - loss: 0.0724 - mae: 0.2278\n",
            "Epoch 47/100\n",
            "562/562 [==============================] - 1s 1ms/step - loss: 0.0716 - mae: 0.2259\n",
            "Epoch 48/100\n",
            "562/562 [==============================] - 1s 1ms/step - loss: 0.0709 - mae: 0.2252\n",
            "Epoch 49/100\n",
            "562/562 [==============================] - 1s 1ms/step - loss: 0.0706 - mae: 0.2244\n",
            "Epoch 50/100\n",
            "562/562 [==============================] - 1s 1ms/step - loss: 0.0700 - mae: 0.2224\n",
            "Epoch 51/100\n",
            "562/562 [==============================] - 1s 1ms/step - loss: 0.0692 - mae: 0.2209\n",
            "Epoch 52/100\n",
            "562/562 [==============================] - 1s 1ms/step - loss: 0.0690 - mae: 0.2216\n",
            "Epoch 53/100\n",
            "562/562 [==============================] - 1s 1ms/step - loss: 0.0689 - mae: 0.2205\n",
            "Epoch 54/100\n",
            "562/562 [==============================] - 1s 1ms/step - loss: 0.0683 - mae: 0.2195\n",
            "Epoch 55/100\n",
            "562/562 [==============================] - 1s 1ms/step - loss: 0.0681 - mae: 0.2186\n",
            "Epoch 56/100\n",
            "562/562 [==============================] - 1s 1ms/step - loss: 0.0669 - mae: 0.2163\n",
            "Epoch 57/100\n",
            "562/562 [==============================] - 1s 1ms/step - loss: 0.0664 - mae: 0.2156\n",
            "Epoch 58/100\n",
            "562/562 [==============================] - 1s 1ms/step - loss: 0.0662 - mae: 0.2151\n",
            "Epoch 59/100\n",
            "562/562 [==============================] - 1s 1ms/step - loss: 0.0656 - mae: 0.2138\n",
            "Epoch 60/100\n",
            "562/562 [==============================] - 1s 1ms/step - loss: 0.0650 - mae: 0.2120\n",
            "Epoch 61/100\n",
            "562/562 [==============================] - 1s 1ms/step - loss: 0.0647 - mae: 0.2118\n",
            "Epoch 62/100\n",
            "562/562 [==============================] - 1s 1ms/step - loss: 0.0644 - mae: 0.2107\n",
            "Epoch 63/100\n",
            "562/562 [==============================] - 1s 1ms/step - loss: 0.0640 - mae: 0.2099\n",
            "Epoch 64/100\n",
            "562/562 [==============================] - 1s 1ms/step - loss: 0.0632 - mae: 0.2088\n",
            "Epoch 65/100\n",
            "562/562 [==============================] - 1s 1ms/step - loss: 0.0628 - mae: 0.2082\n",
            "Epoch 66/100\n",
            "562/562 [==============================] - 1s 1ms/step - loss: 0.0631 - mae: 0.2080\n",
            "Epoch 67/100\n",
            "562/562 [==============================] - 1s 1ms/step - loss: 0.0616 - mae: 0.2057\n",
            "Epoch 68/100\n",
            "562/562 [==============================] - 1s 1ms/step - loss: 0.0617 - mae: 0.2058\n",
            "Epoch 69/100\n",
            "562/562 [==============================] - 1s 1ms/step - loss: 0.0614 - mae: 0.2049\n",
            "Epoch 70/100\n",
            "562/562 [==============================] - 1s 1ms/step - loss: 0.0611 - mae: 0.2045\n",
            "Epoch 71/100\n",
            "562/562 [==============================] - 1s 1ms/step - loss: 0.0610 - mae: 0.2043\n",
            "Epoch 72/100\n",
            "562/562 [==============================] - 1s 1ms/step - loss: 0.0600 - mae: 0.2020\n",
            "Epoch 73/100\n",
            "562/562 [==============================] - 1s 1ms/step - loss: 0.0600 - mae: 0.2018\n",
            "Epoch 74/100\n",
            "562/562 [==============================] - 1s 1ms/step - loss: 0.0596 - mae: 0.2011\n",
            "Epoch 75/100\n",
            "562/562 [==============================] - 1s 1ms/step - loss: 0.0594 - mae: 0.2007\n",
            "Epoch 76/100\n",
            "562/562 [==============================] - 1s 1ms/step - loss: 0.0588 - mae: 0.1999\n",
            "Epoch 77/100\n",
            "562/562 [==============================] - 1s 1ms/step - loss: 0.0589 - mae: 0.1996\n",
            "Epoch 78/100\n",
            "562/562 [==============================] - 1s 1ms/step - loss: 0.0579 - mae: 0.1975\n",
            "Epoch 79/100\n",
            "562/562 [==============================] - 1s 1ms/step - loss: 0.0578 - mae: 0.1978\n",
            "Epoch 80/100\n",
            "562/562 [==============================] - 1s 1ms/step - loss: 0.0575 - mae: 0.1965\n",
            "Epoch 81/100\n",
            "562/562 [==============================] - 1s 1ms/step - loss: 0.0570 - mae: 0.1958\n",
            "Epoch 82/100\n",
            "562/562 [==============================] - 1s 1ms/step - loss: 0.0567 - mae: 0.1952\n",
            "Epoch 83/100\n",
            "562/562 [==============================] - 1s 1ms/step - loss: 0.0564 - mae: 0.1943\n",
            "Epoch 84/100\n",
            "562/562 [==============================] - 1s 1ms/step - loss: 0.0563 - mae: 0.1940\n",
            "Epoch 85/100\n",
            "562/562 [==============================] - 1s 1ms/step - loss: 0.0557 - mae: 0.1928\n",
            "Epoch 86/100\n",
            "562/562 [==============================] - 1s 1ms/step - loss: 0.0553 - mae: 0.1923\n",
            "Epoch 87/100\n",
            "562/562 [==============================] - 1s 1ms/step - loss: 0.0552 - mae: 0.1921\n",
            "Epoch 88/100\n",
            "562/562 [==============================] - 1s 1ms/step - loss: 0.0550 - mae: 0.1910\n",
            "Epoch 89/100\n",
            "562/562 [==============================] - 1s 1ms/step - loss: 0.0544 - mae: 0.1905\n",
            "Epoch 90/100\n",
            "562/562 [==============================] - 1s 1ms/step - loss: 0.0543 - mae: 0.1899\n",
            "Epoch 91/100\n",
            "562/562 [==============================] - 1s 1ms/step - loss: 0.0542 - mae: 0.1895\n",
            "Epoch 92/100\n",
            "562/562 [==============================] - 1s 1ms/step - loss: 0.0537 - mae: 0.1889\n",
            "Epoch 93/100\n",
            "562/562 [==============================] - 1s 1ms/step - loss: 0.0541 - mae: 0.1887\n",
            "Epoch 94/100\n",
            "562/562 [==============================] - 1s 1ms/step - loss: 0.0532 - mae: 0.1876\n",
            "Epoch 95/100\n",
            "562/562 [==============================] - 1s 1ms/step - loss: 0.0535 - mae: 0.1882\n",
            "Epoch 96/100\n",
            "562/562 [==============================] - 1s 1ms/step - loss: 0.0527 - mae: 0.1870\n",
            "Epoch 97/100\n",
            "562/562 [==============================] - 1s 1ms/step - loss: 0.0528 - mae: 0.1867\n",
            "Epoch 98/100\n",
            "562/562 [==============================] - 1s 1ms/step - loss: 0.0531 - mae: 0.1873\n",
            "Epoch 99/100\n",
            "562/562 [==============================] - 1s 1ms/step - loss: 0.0520 - mae: 0.1853\n",
            "Epoch 100/100\n",
            "562/562 [==============================] - 1s 1ms/step - loss: 0.0519 - mae: 0.1849\n"
          ]
        }
      ]
    },
    {
      "cell_type": "code",
      "metadata": {
        "colab": {
          "base_uri": "https://localhost:8080/",
          "height": 441
        },
        "id": "exgbKg3yjlv-",
        "outputId": "b33a80ed-55a3-4548-cb5f-3ee00cb77a2e"
      },
      "source": [
        "plt.figure(figsize=(9,6))\n",
        "plt.title('Microsoft_LCG ', font1)\n",
        "plt.ylabel('Loss (MSE)',font1)\n",
        "plt.xlabel('Epoch',font1)\n",
        "plt.plot(history.history['loss'],linewidth = standard,color='blue')\n",
        "figure_adjust(18)\n",
        "plt.tight_layout()"
      ],
      "execution_count": null,
      "outputs": [
        {
          "output_type": "display_data",
          "data": {
            "image/png": "[encoded data removed]",
            "text/plain": [
              "<Figure size 648x432 with 1 Axes>"
            ]
          },
          "metadata": {
            "needs_background": "light"
          }
        }
      ]
    },
    {
      "cell_type": "code",
      "metadata": {
        "colab": {
          "base_uri": "https://localhost:8080/",
          "height": 442
        },
        "id": "LC8f6GdGj2kp",
        "outputId": "3c706eb4-3bc2-4580-f3c8-114c3e86eb6e"
      },
      "source": [
        "y_predict= regressor2.predict(x_test)\n",
        "plt.figure(figsize=(6,6))\n",
        "plt.xlim(0,1)\n",
        "plt.ylim(0,1)\n",
        "plt.scatter(y_test, y_predict, s=60, marker='o',color='blue')\n",
        "plt.plot([0,1],[0,1],'--k',linewidth=standard)\n",
        "plt.title('Microsoft_LCG',font2)\n",
        "plt.xlabel('Real RNG',font2)\n",
        "plt.ylabel('Predicted RNG',font2)\n",
        "figure_adjust(18)\n",
        "p2 = np.corrcoef(y_test.reshape(-1,1)[:,0],y_predict[:,0])[0]\n",
        "\n",
        "\n",
        "# We only care about the Correlation\n",
        "print('Correlation: ',p2[1]*100, ' %')"
      ],
      "execution_count": null,
      "outputs": [
        {
          "output_type": "stream",
          "name": "stdout",
          "text": [
            "Correlation:  -5.280640451807879  %\n"
          ]
        },
        {
          "output_type": "display_data",
          "data": {
            "image/png": "[encoded data removed]",
            "text/plain": [
              "<Figure size 432x432 with 1 Axes>"
            ]
          },
          "metadata": {
            "needs_background": "light"
          }
        }
      ]
    },
    {
      "cell_type": "code",
      "metadata": {
        "id": "p8-l3fwVk355",
        "colab": {
          "base_uri": "https://localhost:8080/"
        },
        "outputId": "89107334-c86a-4dd0-d97c-9c4517f885bf"
      },
      "source": [
        "print(p2)"
      ],
      "execution_count": null,
      "outputs": [
        {
          "output_type": "stream",
          "name": "stdout",
          "text": [
            "[1.         0.95907606]\n"
          ]
        }
      ]
    },
    {
      "cell_type": "code",
      "metadata": {
        "colab": {
          "base_uri": "https://localhost:8080/"
        },
        "id": "LNG34O8KzUZE",
        "outputId": "90b8edde-32e6-4936-9531-fceaadd7a16f"
      },
      "source": [
        "y_predict= regressor2.predict(x_test)\n",
        "p2 = np.corrcoef(y_test.reshape(-1,1)[:,0],y_predict[:,0])[0]\n",
        "print('Correlation: ',p2[1]*100, ' %')"
      ],
      "execution_count": null,
      "outputs": [
        {
          "output_type": "stream",
          "name": "stdout",
          "text": [
            "Correlation:  -5.280640451807879  %\n"
          ]
        }
      ]
    },
    {
      "cell_type": "code",
      "metadata": {
        "id": "iKJF-bfDTTWD"
      },
      "source": [
        ""
      ],
      "execution_count": null,
      "outputs": []
    }
  ]
}